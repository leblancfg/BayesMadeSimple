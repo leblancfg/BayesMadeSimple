{
 "cells": [
  {
   "cell_type": "markdown",
   "metadata": {},
   "source": [
    "Bayesian Statistics Made Simple\n",
    "===\n",
    "\n",
    "Code and exercises from my workshop on Bayesian statistics in Python.\n",
    "\n",
    "Copyright 2016 Allen Downey\n",
    "\n",
    "MIT License: https://opensource.org/licenses/MIT"
   ]
  },
  {
   "cell_type": "code",
   "execution_count": 1,
   "metadata": {
    "ExecuteTime": {
     "end_time": "2017-12-04T20:14:00.264270Z",
     "start_time": "2017-12-04T20:13:57.606270Z"
    },
    "collapsed": true
   },
   "outputs": [],
   "source": [
    "from __future__ import print_function, division\n",
    "\n",
    "%matplotlib inline\n",
    "\n",
    "import warnings\n",
    "warnings.filterwarnings('ignore')\n",
    "\n",
    "import math\n",
    "import numpy as np\n",
    "from scipy.special import gamma\n",
    "\n",
    "from thinkbayes2 import Pmf, Suite\n",
    "import thinkplot"
   ]
  },
  {
   "cell_type": "code",
   "execution_count": 2,
   "metadata": {
    "ExecuteTime": {
     "end_time": "2017-12-04T20:14:00.582270Z",
     "start_time": "2017-12-04T20:14:00.269270Z"
    },
    "collapsed": true
   },
   "outputs": [],
   "source": [
    "# Picky plots for picky people\n",
    "import seaborn as sns"
   ]
  },
  {
   "cell_type": "markdown",
   "metadata": {},
   "source": [
    "Working with Pmfs\n",
    "---\n",
    "Create a Pmf object to represent a six-sided die."
   ]
  },
  {
   "cell_type": "code",
   "execution_count": 3,
   "metadata": {
    "ExecuteTime": {
     "end_time": "2017-12-04T20:14:00.598270Z",
     "start_time": "2017-12-04T20:14:00.590270Z"
    },
    "collapsed": true
   },
   "outputs": [],
   "source": [
    "d6 = Pmf()"
   ]
  },
  {
   "cell_type": "markdown",
   "metadata": {},
   "source": [
    "A Pmf is a map from possible outcomes to their probabilities."
   ]
  },
  {
   "cell_type": "code",
   "execution_count": 4,
   "metadata": {
    "ExecuteTime": {
     "end_time": "2017-12-04T20:14:00.709270Z",
     "start_time": "2017-12-04T20:14:00.612270Z"
    },
    "collapsed": true
   },
   "outputs": [],
   "source": [
    "for x in [1,2,3,4,5,6]:\n",
    "    d6[x] = 1"
   ]
  },
  {
   "cell_type": "markdown",
   "metadata": {},
   "source": [
    "Initially the probabilities don't add up to 1."
   ]
  },
  {
   "cell_type": "code",
   "execution_count": 5,
   "metadata": {
    "ExecuteTime": {
     "end_time": "2017-12-04T20:14:00.817270Z",
     "start_time": "2017-12-04T20:14:00.719270Z"
    }
   },
   "outputs": [
    {
     "name": "stdout",
     "output_type": "stream",
     "text": [
      "1 1\n",
      "2 1\n",
      "3 1\n",
      "4 1\n",
      "5 1\n",
      "6 1\n"
     ]
    }
   ],
   "source": [
    "d6.Print()"
   ]
  },
  {
   "cell_type": "markdown",
   "metadata": {},
   "source": [
    "`Normalize` adds up the probabilities and divides through.  The return value is the total probability before normalizing."
   ]
  },
  {
   "cell_type": "code",
   "execution_count": 6,
   "metadata": {
    "ExecuteTime": {
     "end_time": "2017-12-04T20:14:00.948270Z",
     "start_time": "2017-12-04T20:14:00.826270Z"
    }
   },
   "outputs": [
    {
     "data": {
      "text/plain": [
       "6"
      ]
     },
     "execution_count": 6,
     "metadata": {},
     "output_type": "execute_result"
    }
   ],
   "source": [
    "d6.Normalize()"
   ]
  },
  {
   "cell_type": "markdown",
   "metadata": {},
   "source": [
    "Now the Pmf is normalized."
   ]
  },
  {
   "cell_type": "code",
   "execution_count": 7,
   "metadata": {
    "ExecuteTime": {
     "end_time": "2017-12-04T20:14:01.089270Z",
     "start_time": "2017-12-04T20:14:00.961270Z"
    }
   },
   "outputs": [
    {
     "name": "stdout",
     "output_type": "stream",
     "text": [
      "1 0.16666666666666666\n",
      "2 0.16666666666666666\n",
      "3 0.16666666666666666\n",
      "4 0.16666666666666666\n",
      "5 0.16666666666666666\n",
      "6 0.16666666666666666\n"
     ]
    }
   ],
   "source": [
    "d6.Print()"
   ]
  },
  {
   "cell_type": "markdown",
   "metadata": {},
   "source": [
    "And we can compute its mean (which only works if it's normalized)."
   ]
  },
  {
   "cell_type": "code",
   "execution_count": 8,
   "metadata": {
    "ExecuteTime": {
     "end_time": "2017-12-04T20:14:01.233270Z",
     "start_time": "2017-12-04T20:14:01.109270Z"
    }
   },
   "outputs": [
    {
     "data": {
      "text/plain": [
       "3.5"
      ]
     },
     "execution_count": 8,
     "metadata": {},
     "output_type": "execute_result"
    }
   ],
   "source": [
    "d6.Mean()"
   ]
  },
  {
   "cell_type": "markdown",
   "metadata": {},
   "source": [
    "`Random` chooses a random value from the Pmf."
   ]
  },
  {
   "cell_type": "code",
   "execution_count": 9,
   "metadata": {
    "ExecuteTime": {
     "end_time": "2017-12-04T20:14:01.381270Z",
     "start_time": "2017-12-04T20:14:01.246270Z"
    }
   },
   "outputs": [
    {
     "data": {
      "text/plain": [
       "6"
      ]
     },
     "execution_count": 9,
     "metadata": {},
     "output_type": "execute_result"
    }
   ],
   "source": [
    "d6.Random()"
   ]
  },
  {
   "cell_type": "markdown",
   "metadata": {},
   "source": [
    "`thinkplot` provides methods for plotting Pmfs in a few different styles."
   ]
  },
  {
   "cell_type": "code",
   "execution_count": 10,
   "metadata": {
    "ExecuteTime": {
     "end_time": "2017-12-04T20:14:01.851270Z",
     "start_time": "2017-12-04T20:14:01.386270Z"
    }
   },
   "outputs": [
    {
     "data": {
      "image/png": "[encoded data removed]",
      "text/plain": [
       "<matplotlib.figure.Figure at 0x10d00400>"
      ]
     },
     "metadata": {},
     "output_type": "display_data"
    }
   ],
   "source": [
    "thinkplot.Hist(d6)"
   ]
  },
  {
   "cell_type": "markdown",
   "metadata": {},
   "source": [
    "**Exercise 1:**  The Pmf object provides `__add__`, so you can use the `+` operator to compute the Pmf of the sum of two dice.\n",
    "\n",
    "Compute and plot the Pmf of the sum of two 6-sided dice."
   ]
  },
  {
   "cell_type": "code",
   "execution_count": 11,
   "metadata": {
    "ExecuteTime": {
     "end_time": "2017-12-04T20:14:02.248270Z",
     "start_time": "2017-12-04T20:14:01.860270Z"
    }
   },
   "outputs": [
    {
     "data": {
      "image/png": "[encoded data removed]",
      "text/plain": [
       "<matplotlib.figure.Figure at 0x13e15438>"
      ]
     },
     "metadata": {},
     "output_type": "display_data"
    }
   ],
   "source": [
    "thinkplot.Hist(d6 + d6)"
   ]
  },
  {
   "cell_type": "markdown",
   "metadata": {},
   "source": [
    "**Exercise 2:** Suppose I roll two dice and tell you the result is greater than 3.\n",
    "\n",
    "Plot the Pmf of the remaining possible outcomes and compute its mean."
   ]
  },
  {
   "cell_type": "code",
   "execution_count": 12,
   "metadata": {
    "ExecuteTime": {
     "end_time": "2017-12-04T20:14:02.690270Z",
     "start_time": "2017-12-04T20:14:02.251270Z"
    }
   },
   "outputs": [
    {
     "name": "stdout",
     "output_type": "stream",
     "text": [
      "7.393939393939394\n"
     ]
    },
    {
     "data": {
      "image/png": "[encoded data removed]",
      "text/plain": [
       "<matplotlib.figure.Figure at 0x12dbd278>"
      ]
     },
     "metadata": {},
     "output_type": "display_data"
    }
   ],
   "source": [
    "d6_2 = d6 + d6\n",
    "d6_2[2], d6_2[3] = 0, 0\n",
    "d6_2.Normalize()\n",
    "thinkplot.Hist(d6_2)\n",
    "print(d6_2.Mean())"
   ]
  },
  {
   "cell_type": "markdown",
   "metadata": {},
   "source": [
    "The cookie problem\n",
    "---\n",
    "    Suppose there are two cookie bowls.\n",
    "\n",
    "    Bowl #1 contains 10 vanilla and 30 chocolate cookies.\n",
    "    Bowl #2 contains 20 each.\n",
    "    You can't see the bowl label.\n",
    "    \n",
    "    You pick a vanilla cookie.\n",
    "    What is the probability that you picked from bowl #1?\n",
    "\n",
    "Create a Pmf with two equally likely hypotheses.\n"
   ]
  },
  {
   "cell_type": "code",
   "execution_count": 13,
   "metadata": {
    "ExecuteTime": {
     "end_time": "2017-12-04T20:14:02.715270Z",
     "start_time": "2017-12-04T20:14:02.698270Z"
    }
   },
   "outputs": [
    {
     "name": "stdout",
     "output_type": "stream",
     "text": [
      "Bowl 1 0.5\n",
      "Bowl 2 0.5\n"
     ]
    }
   ],
   "source": [
    "cookie = Pmf(['Bowl 1', 'Bowl 2'])\n",
    "cookie.Print()"
   ]
  },
  {
   "cell_type": "markdown",
   "metadata": {},
   "source": [
    "Update each hypothesis with the likelihood of the data (a vanilla cookie from Bowl 1)."
   ]
  },
  {
   "cell_type": "code",
   "execution_count": 14,
   "metadata": {
    "ExecuteTime": {
     "end_time": "2017-12-04T20:14:02.860270Z",
     "start_time": "2017-12-04T20:14:02.721270Z"
    }
   },
   "outputs": [
    {
     "data": {
      "text/plain": [
       "0.625"
      ]
     },
     "execution_count": 14,
     "metadata": {},
     "output_type": "execute_result"
    }
   ],
   "source": [
    "# Vanilla cookies make 75% of all cookies of the uneven bowl\n",
    "cookie['Bowl 1'] *= 0.75\n",
    "cookie['Bowl 2'] *= 0.5\n",
    "cookie.Normalize()"
   ]
  },
  {
   "cell_type": "markdown",
   "metadata": {},
   "source": [
    "Print the posterior probabilities."
   ]
  },
  {
   "cell_type": "code",
   "execution_count": 15,
   "metadata": {
    "ExecuteTime": {
     "end_time": "2017-12-04T20:14:02.993270Z",
     "start_time": "2017-12-04T20:14:02.869270Z"
    }
   },
   "outputs": [
    {
     "name": "stdout",
     "output_type": "stream",
     "text": [
      "Bowl 1 0.6000000000000001\n",
      "Bowl 2 0.4\n"
     ]
    }
   ],
   "source": [
    "cookie.Print()"
   ]
  },
  {
   "cell_type": "markdown",
   "metadata": {},
   "source": [
    "**Exercise 3:** Suppose we put the first cookie back, stir, choose again from the same bowl, and get a chocolate cookie.\n",
    "\n",
    "Hint: The posterior (after the first cookie) becomes the prior (before the second cookie)."
   ]
  },
  {
   "cell_type": "code",
   "execution_count": 16,
   "metadata": {
    "ExecuteTime": {
     "end_time": "2017-12-04T20:14:03.396270Z",
     "start_time": "2017-12-04T20:14:03.010270Z"
    }
   },
   "outputs": [
    {
     "name": "stdout",
     "output_type": "stream",
     "text": [
      "Pmf({'Bowl 1': 0.4285714285714286, 'Bowl 2': 0.5714285714285714})\n"
     ]
    },
    {
     "data": {
      "image/png": "[encoded data removed]",
      "text/plain": [
       "<matplotlib.figure.Figure at 0x12e1e128>"
      ]
     },
     "metadata": {},
     "output_type": "display_data"
    }
   ],
   "source": [
    "# Chocolate cookies make up 25% of the uneven bowl, 50% in the other\n",
    "cookie['Bowl 1'] *= 0.25\n",
    "cookie['Bowl 2'] *= 0.5\n",
    "cookie.Normalize()\n",
    "thinkplot.Hist(cookie)\n",
    "print(cookie)"
   ]
  },
  {
   "cell_type": "markdown",
   "metadata": {},
   "source": [
    "**Exercise 4:** Instead of doing two updates, what if we collapse the two pieces of data into one update?\n",
    "\n",
    "Re-initialize `Pmf` with two equally likely hypotheses and perform one update based on two pieces of data, a vanilla cookie and a chocolate cookie.\n",
    "\n",
    "The result should be the same regardless of how many updates you do (or the order of updates)."
   ]
  },
  {
   "cell_type": "code",
   "execution_count": 17,
   "metadata": {
    "ExecuteTime": {
     "end_time": "2017-12-04T20:14:04.006270Z",
     "start_time": "2017-12-04T20:14:03.401270Z"
    }
   },
   "outputs": [
    {
     "name": "stdout",
     "output_type": "stream",
     "text": [
      "Bowl 1 0.42857142857142855\n",
      "Bowl 2 0.5714285714285714\n"
     ]
    },
    {
     "data": {
      "image/png": "[encoded data removed]",
      "text/plain": [
       "<matplotlib.figure.Figure at 0x13f99828>"
      ]
     },
     "metadata": {},
     "output_type": "display_data"
    }
   ],
   "source": [
    "cookie['Bowl 1'] = 0.5\n",
    "cookie['Bowl 2'] = 0.5\n",
    "\n",
    "# Order is different\n",
    "cookie['Bowl 1'] *= 0.25\n",
    "cookie['Bowl 2'] *= 0.5\n",
    "cookie['Bowl 1'] *= 0.75\n",
    "cookie['Bowl 2'] *= 0.5\n",
    "cookie.Normalize()\n",
    "cookie.Print()\n",
    "thinkplot.Hist(cookie)"
   ]
  },
  {
   "cell_type": "markdown",
   "metadata": {},
   "source": [
    "The dice problem\n",
    "---\n",
    "Create a Suite to represent dice with different numbers of sides."
   ]
  },
  {
   "cell_type": "code",
   "execution_count": 18,
   "metadata": {
    "ExecuteTime": {
     "end_time": "2017-12-04T20:14:04.145270Z",
     "start_time": "2017-12-04T20:14:04.036270Z"
    }
   },
   "outputs": [
    {
     "name": "stdout",
     "output_type": "stream",
     "text": [
      "4 0.25\n",
      "6 0.25\n",
      "8 0.25\n",
      "12 0.25\n"
     ]
    }
   ],
   "source": [
    "suite = Suite([4, 6, 8, 12])\n",
    "suite.Print()"
   ]
  },
  {
   "cell_type": "markdown",
   "metadata": {},
   "source": [
    "**Exercise 5:** We'll solve this problem two ways.  First we'll do it \"by hand\", as we did with the cookie problem; that is, we'll multiply each hypothesis by the likelihood of the data, and the renormalize.\n",
    "\n",
    "In the space below, update `suite` based on the likelihood of the data (rolling a 6), then normalize and print the results."
   ]
  },
  {
   "cell_type": "code",
   "execution_count": 19,
   "metadata": {
    "ExecuteTime": {
     "end_time": "2017-12-04T20:14:04.332270Z",
     "start_time": "2017-12-04T20:14:04.163270Z"
    }
   },
   "outputs": [
    {
     "name": "stdout",
     "output_type": "stream",
     "text": [
      "4 0.0\n",
      "6 0.4444444444444445\n",
      "8 0.33333333333333337\n",
      "12 0.22222222222222224\n"
     ]
    }
   ],
   "source": [
    "suite = Suite([4, 6, 8, 12])\n",
    "\n",
    "suite[4] *= 0\n",
    "suite[6] *= 1 / 6\n",
    "suite[8] *= 1 / 8\n",
    "suite[12] *= 1 / 12\n",
    "\n",
    "suite.Normalize()\n",
    "suite.Print()"
   ]
  },
  {
   "cell_type": "markdown",
   "metadata": {},
   "source": [
    "**Exercise 6:**  Now let's do the same calculation using `Suite.Update`.\n",
    "\n",
    "Write a definition for a new class called `Dice` that extends `Suite`.  Then define a method called `Likelihood` that takes `data` and `hypo` and returns the probability of the data (the outcome of rolling the die) for a given hypothesis (number of sides on the die).\n",
    "\n",
    "Hint: What should you do if the outcome exceeds the hypothetical number of sides on the die?\n",
    "\n",
    "Here's an outline to get you started:"
   ]
  },
  {
   "cell_type": "code",
   "execution_count": 20,
   "metadata": {
    "ExecuteTime": {
     "end_time": "2017-12-04T20:14:04.441270Z",
     "start_time": "2017-12-04T20:14:04.338270Z"
    },
    "collapsed": true
   },
   "outputs": [],
   "source": [
    "class Dice(Suite):\n",
    "        # hypo is the number of sides on the die\n",
    "        # data is the outcome\n",
    "        def Likelihood(self, data, hypo):\n",
    "            if data > hypo:\n",
    "                return 0\n",
    "            else:\n",
    "                return 1 / hypo"
   ]
  },
  {
   "cell_type": "markdown",
   "metadata": {},
   "source": [
    "Now we can create a `Dice` object and update it."
   ]
  },
  {
   "cell_type": "code",
   "execution_count": 21,
   "metadata": {
    "ExecuteTime": {
     "end_time": "2017-12-04T20:14:04.585270Z",
     "start_time": "2017-12-04T20:14:04.455270Z"
    }
   },
   "outputs": [
    {
     "name": "stdout",
     "output_type": "stream",
     "text": [
      "4 0.0\n",
      "6 0.4444444444444445\n",
      "8 0.33333333333333337\n",
      "12 0.22222222222222224\n"
     ]
    }
   ],
   "source": [
    "dice = Dice([4, 6, 8, 12])\n",
    "dice.Update(6)\n",
    "dice.Print()"
   ]
  },
  {
   "cell_type": "markdown",
   "metadata": {},
   "source": [
    "If we get more data, we can perform more updates."
   ]
  },
  {
   "cell_type": "code",
   "execution_count": 22,
   "metadata": {
    "ExecuteTime": {
     "end_time": "2017-12-04T20:14:04.706270Z",
     "start_time": "2017-12-04T20:14:04.591270Z"
    },
    "collapsed": true
   },
   "outputs": [],
   "source": [
    "for roll in [8, 7, 7, 5, 4]:\n",
    "    dice.Update(roll)"
   ]
  },
  {
   "cell_type": "markdown",
   "metadata": {},
   "source": [
    "Here are the results."
   ]
  },
  {
   "cell_type": "code",
   "execution_count": 23,
   "metadata": {
    "ExecuteTime": {
     "end_time": "2017-12-04T20:14:04.967270Z",
     "start_time": "2017-12-04T20:14:04.714270Z"
    }
   },
   "outputs": [
    {
     "name": "stdout",
     "output_type": "stream",
     "text": [
      "4 0.0\n",
      "6 0.0\n",
      "8 0.9192938209331653\n",
      "12 0.08070617906683476\n"
     ]
    }
   ],
   "source": [
    "dice.Print()"
   ]
  },
  {
   "cell_type": "code",
   "execution_count": 24,
   "metadata": {
    "ExecuteTime": {
     "end_time": "2017-12-04T20:14:05.137270Z",
     "start_time": "2017-12-04T20:14:04.976270Z"
    }
   },
   "outputs": [
    {
     "name": "stdout",
     "output_type": "stream",
     "text": [
      "4 0.0\n",
      "6 0.0\n",
      "8 0.0\n",
      "12 1.0\n"
     ]
    }
   ],
   "source": [
    "# But if a pure certainty arises, we get a definite answer.\n",
    "dice.Update(9)\n",
    "dice.Print()"
   ]
  },
  {
   "cell_type": "markdown",
   "metadata": {},
   "source": [
    "The German tank problem\n",
    "---\n",
    "The German tank problem is actually identical to the dice problem."
   ]
  },
  {
   "cell_type": "code",
   "execution_count": 25,
   "metadata": {
    "ExecuteTime": {
     "end_time": "2017-12-04T20:14:05.276270Z",
     "start_time": "2017-12-04T20:14:05.151270Z"
    },
    "collapsed": true
   },
   "outputs": [],
   "source": [
    "class Tank(Suite):\n",
    "    # hypo is the number of tanks\n",
    "    # data is an observed serial number\n",
    "    def Likelihood(self, data, hypo):\n",
    "        if data > hypo:\n",
    "            return 0\n",
    "        else:\n",
    "            return 1 / hypo"
   ]
  },
  {
   "cell_type": "markdown",
   "metadata": {},
   "source": [
    "Here are the posterior probabilities after seeing Tank #37."
   ]
  },
  {
   "cell_type": "code",
   "execution_count": 26,
   "metadata": {
    "ExecuteTime": {
     "end_time": "2017-12-04T20:14:05.755270Z",
     "start_time": "2017-12-04T20:14:05.323270Z"
    }
   },
   "outputs": [
    {
     "name": "stdout",
     "output_type": "stream",
     "text": [
      "If you had to place a bet on the exact number of tanks\n",
      "produced that month, you would simply state\n",
      "Max Likelihood: 37\n",
      "\n",
      "But remember that it's the area under the curve of the pmf that matters\n",
      "Mean: \t\t62.822944785168964\n"
     ]
    },
    {
     "data": {
      "image/png": "[encoded data removed]",
      "text/plain": [
       "<matplotlib.figure.Figure at 0x14035da0>"
      ]
     },
     "metadata": {},
     "output_type": "display_data"
    }
   ],
   "source": [
    "tank = Tank(range(100))\n",
    "tank.Update(37)\n",
    "thinkplot.Pdf(tank)\n",
    "\n",
    "print(\"\"\"If you had to place a bet on the exact number of tanks\n",
    "produced that month, you would simply state\"\"\")\n",
    "print(f'Max Likelihood: {tank.MaximumLikelihood()}')\n",
    "print(\"\"\"\\nBut remember that it's the area under the curve of the pmf that matters\"\"\")\n",
    "print(f'Mean: \\t\\t{tank.Mean()}')"
   ]
  },
  {
   "cell_type": "markdown",
   "metadata": {},
   "source": [
    "**Exercise 7:**  Suppose we see another tank with serial number 17.  What effect does this have on the posterior probabilities?\n",
    "\n",
    "Update the suite again with the new data and plot the results."
   ]
  },
  {
   "cell_type": "code",
   "execution_count": 27,
   "metadata": {
    "ExecuteTime": {
     "end_time": "2017-12-04T20:14:06.323270Z",
     "start_time": "2017-12-04T20:14:05.760270Z"
    }
   },
   "outputs": [
    {
     "name": "stdout",
     "output_type": "stream",
     "text": [
      "Max Likelihood: 37\n",
      "Mean: \t\t57.81472076260485\n"
     ]
    },
    {
     "data": {
      "image/png": "[encoded data removed]",
      "text/plain": [
       "<matplotlib.figure.Figure at 0x13ee8978>"
      ]
     },
     "metadata": {},
     "output_type": "display_data"
    }
   ],
   "source": [
    "# Solution goes here\n",
    "tank.Update(17)\n",
    "thinkplot.Pdf(tank)\n",
    "print(f'Max Likelihood: {tank.MaximumLikelihood()}')\n",
    "print(f'Mean: \\t\\t{tank.Mean()}')"
   ]
  },
  {
   "cell_type": "markdown",
   "metadata": {},
   "source": [
    "The Euro problem\n",
    "---\n",
    "\n",
    "**Exercise 8:**  Write a class definition for `Euro`, which extends `Suite` and defines a likelihood function that computes the probability of the data (heads or tails) for a given value of `x` (the probability of heads).\n",
    "\n",
    "Note that `hypo` is in the range 0 to 100.  Here's an outline to get you started."
   ]
  },
  {
   "cell_type": "code",
   "execution_count": 28,
   "metadata": {
    "ExecuteTime": {
     "end_time": "2017-12-04T20:14:06.360270Z",
     "start_time": "2017-12-04T20:14:06.343270Z"
    },
    "collapsed": true
   },
   "outputs": [],
   "source": [
    "class Euro(Suite):\n",
    "    \n",
    "    def Likelihood(self, data, hypo):\n",
    "        \"\"\" \n",
    "        hypo is the prob of heads (0-100)\n",
    "        data is a string, either 'H' or 'T'\n",
    "        \"\"\"\n",
    "        if data == 'H':\n",
    "            return hypo / 100\n",
    "        else:\n",
    "            return 1 - (hypo / 100)"
   ]
  },
  {
   "cell_type": "markdown",
   "metadata": {},
   "source": [
    "We'll start with a uniform distribution from 0 to 100."
   ]
  },
  {
   "cell_type": "code",
   "execution_count": 29,
   "metadata": {
    "ExecuteTime": {
     "end_time": "2017-12-04T20:14:07.312270Z",
     "start_time": "2017-12-04T20:14:06.373270Z"
    }
   },
   "outputs": [
    {
     "data": {
      "image/png": "[encoded data removed]",
      "text/plain": [
       "<matplotlib.figure.Figure at 0x1402bc50>"
      ]
     },
     "metadata": {},
     "output_type": "display_data"
    }
   ],
   "source": [
    "euro = Euro(range(101))\n",
    "thinkplot.Pdf(euro)"
   ]
  },
  {
   "cell_type": "markdown",
   "metadata": {},
   "source": [
    "Now we can update with a single heads:"
   ]
  },
  {
   "cell_type": "code",
   "execution_count": 30,
   "metadata": {
    "ExecuteTime": {
     "end_time": "2017-12-04T20:14:07.766270Z",
     "start_time": "2017-12-04T20:14:07.326270Z"
    }
   },
   "outputs": [
    {
     "data": {
      "image/png": "[encoded data removed]",
      "text/plain": [
       "<matplotlib.figure.Figure at 0x1413eef0>"
      ]
     },
     "metadata": {},
     "output_type": "display_data"
    }
   ],
   "source": [
    "euro.Update('H')\n",
    "thinkplot.Pdf(euro)"
   ]
  },
  {
   "cell_type": "markdown",
   "metadata": {},
   "source": [
    "Another heads:"
   ]
  },
  {
   "cell_type": "code",
   "execution_count": 31,
   "metadata": {
    "ExecuteTime": {
     "end_time": "2017-12-04T20:14:08.129270Z",
     "start_time": "2017-12-04T20:14:07.775270Z"
    }
   },
   "outputs": [
    {
     "data": {
      "image/png": "[encoded data removed]",
      "text/plain": [
       "<matplotlib.figure.Figure at 0x13f52b38>"
      ]
     },
     "metadata": {},
     "output_type": "display_data"
    }
   ],
   "source": [
    "euro.Update('H')\n",
    "thinkplot.Pdf(euro)"
   ]
  },
  {
   "cell_type": "markdown",
   "metadata": {},
   "source": [
    "And a tails:"
   ]
  },
  {
   "cell_type": "code",
   "execution_count": 32,
   "metadata": {
    "ExecuteTime": {
     "end_time": "2017-12-04T20:14:08.689270Z",
     "start_time": "2017-12-04T20:14:08.131270Z"
    }
   },
   "outputs": [
    {
     "data": {
      "image/png": "[encoded data removed]",
      "text/plain": [
       "<matplotlib.figure.Figure at 0x13f136a0>"
      ]
     },
     "metadata": {},
     "output_type": "display_data"
    }
   ],
   "source": [
    "euro.Update('T')\n",
    "thinkplot.Pdf(euro)"
   ]
  },
  {
   "cell_type": "markdown",
   "metadata": {},
   "source": [
    "Starting over, here's what it looks like after 7 heads and 3 tails."
   ]
  },
  {
   "cell_type": "code",
   "execution_count": 33,
   "metadata": {
    "ExecuteTime": {
     "end_time": "2017-12-04T20:14:09.234270Z",
     "start_time": "2017-12-04T20:14:08.710270Z"
    }
   },
   "outputs": [
    {
     "data": {
      "text/plain": [
       "70"
      ]
     },
     "execution_count": 33,
     "metadata": {},
     "output_type": "execute_result"
    },
    {
     "data": {
      "image/png": "[encoded data removed]",
      "text/plain": [
       "<matplotlib.figure.Figure at 0x140d0320>"
      ]
     },
     "metadata": {},
     "output_type": "display_data"
    }
   ],
   "source": [
    "euro = Euro(range(101))\n",
    "\n",
    "for outcome in 'HHHHHHHTTT':\n",
    "    euro.Update(outcome)\n",
    "\n",
    "thinkplot.Pdf(euro)\n",
    "euro.MaximumLikelihood()"
   ]
  },
  {
   "cell_type": "markdown",
   "metadata": {},
   "source": [
    "The maximum posterior probability is 70%, which is the observed proportion.\n",
    "\n",
    "Here are the posterior probabilities after 140 heads and 110 tails."
   ]
  },
  {
   "cell_type": "code",
   "execution_count": 34,
   "metadata": {
    "ExecuteTime": {
     "end_time": "2017-12-04T20:14:09.559270Z",
     "start_time": "2017-12-04T20:14:09.240270Z"
    }
   },
   "outputs": [
    {
     "data": {
      "image/png": "[encoded data removed]",
      "text/plain": [
       "<matplotlib.figure.Figure at 0x13e3c0b8>"
      ]
     },
     "metadata": {},
     "output_type": "display_data"
    }
   ],
   "source": [
    "euro = Euro(range(101))\n",
    "\n",
    "evidence = 'H' * 140 + 'T' * 110\n",
    "for outcome in evidence:\n",
    "    euro.Update(outcome)\n",
    "    \n",
    "thinkplot.Pdf(euro)"
   ]
  },
  {
   "cell_type": "markdown",
   "metadata": {},
   "source": [
    "The posterior mean s about 56%"
   ]
  },
  {
   "cell_type": "code",
   "execution_count": 35,
   "metadata": {
    "ExecuteTime": {
     "end_time": "2017-12-04T20:14:09.581270Z",
     "start_time": "2017-12-04T20:14:09.564270Z"
    }
   },
   "outputs": [
    {
     "data": {
      "text/plain": [
       "55.952380952380956"
      ]
     },
     "execution_count": 35,
     "metadata": {},
     "output_type": "execute_result"
    }
   ],
   "source": [
    "euro.Mean()"
   ]
  },
  {
   "cell_type": "markdown",
   "metadata": {},
   "source": [
    "So is the value with maximum posterior probability."
   ]
  },
  {
   "cell_type": "code",
   "execution_count": 36,
   "metadata": {
    "ExecuteTime": {
     "end_time": "2017-12-04T20:14:09.700270Z",
     "start_time": "2017-12-04T20:14:09.594270Z"
    }
   },
   "outputs": [
    {
     "data": {
      "text/plain": [
       "56"
      ]
     },
     "execution_count": 36,
     "metadata": {},
     "output_type": "execute_result"
    }
   ],
   "source": [
    "euro.MaximumLikelihood()"
   ]
  },
  {
   "cell_type": "markdown",
   "metadata": {},
   "source": [
    "The posterior credible interval has a 90% chance of containing the true value (provided that the prior distribution truly represents our background knowledge)."
   ]
  },
  {
   "cell_type": "code",
   "execution_count": 37,
   "metadata": {
    "ExecuteTime": {
     "end_time": "2017-12-04T20:14:09.880270Z",
     "start_time": "2017-12-04T20:14:09.705270Z"
    }
   },
   "outputs": [
    {
     "data": {
      "text/plain": [
       "(50, 62)"
      ]
     },
     "execution_count": 37,
     "metadata": {},
     "output_type": "execute_result"
    }
   ],
   "source": [
    "euro.CredibleInterval(95)"
   ]
  },
  {
   "cell_type": "markdown",
   "metadata": {},
   "source": [
    "## Swamping the prior\n",
    "\n",
    "The following function makes a Euro object with a triangle prior."
   ]
  },
  {
   "cell_type": "code",
   "execution_count": 38,
   "metadata": {
    "ExecuteTime": {
     "end_time": "2017-12-04T20:14:10.145270Z",
     "start_time": "2017-12-04T20:14:09.899270Z"
    },
    "collapsed": true
   },
   "outputs": [],
   "source": [
    "def TrianglePrior():\n",
    "    \"\"\"Makes a Suite with a triangular prior.\"\"\"\n",
    "    suite = Euro(label='triangle')\n",
    "    for x in range(0, 51):\n",
    "        suite[x] = x\n",
    "    for x in range(51, 101):\n",
    "        suite[x] = 100-x \n",
    "    suite.Normalize()\n",
    "    return suite"
   ]
  },
  {
   "cell_type": "markdown",
   "metadata": {},
   "source": [
    "And here's what it looks like:"
   ]
  },
  {
   "cell_type": "code",
   "execution_count": 39,
   "metadata": {
    "ExecuteTime": {
     "end_time": "2017-12-04T20:14:10.615270Z",
     "start_time": "2017-12-04T20:14:10.162270Z"
    }
   },
   "outputs": [
    {
     "data": {
      "image/png": "[encoded data removed]",
      "text/plain": [
       "<matplotlib.figure.Figure at 0x14008a90>"
      ]
     },
     "metadata": {},
     "output_type": "display_data"
    }
   ],
   "source": [
    "euro1 = Euro(range(101), label='uniform')\n",
    "euro2 = TrianglePrior()\n",
    "thinkplot.Pdfs([euro1, euro2])\n",
    "thinkplot.Config(title='Priors')"
   ]
  },
  {
   "cell_type": "markdown",
   "metadata": {},
   "source": [
    "**Exercise:** Update euro1 and euro2 with the same data we used before (140 heads and 110 tails) and plot the posteriors.  How big is the difference in the means?"
   ]
  },
  {
   "cell_type": "code",
   "execution_count": 42,
   "metadata": {
    "ExecuteTime": {
     "end_time": "2017-12-04T20:17:34.161515Z",
     "start_time": "2017-12-04T20:17:33.791522Z"
    }
   },
   "outputs": [
    {
     "name": "stdout",
     "output_type": "stream",
     "text": [
      "55.74349943859506\n",
      "56\n",
      "(50, 62)\n",
      "Difference between the means when using the two different priors is 0.209\n"
     ]
    },
    {
     "data": {
      "image/png": "[encoded data removed]",
      "text/plain": [
       "<matplotlib.figure.Figure at 0x14272cf8>"
      ]
     },
     "metadata": {},
     "output_type": "display_data"
    }
   ],
   "source": [
    "euro2 = TrianglePrior()\n",
    "for outcome in evidence:\n",
    "    euro2.Update(outcome)\n",
    "    \n",
    "thinkplot.Pdf(euro2)\n",
    "\n",
    "print(euro2.Mean())\n",
    "print(euro2.MaximumLikelihood())\n",
    "print(euro2.CredibleInterval(95))\n",
    "\n",
    "diff = round(abs(euro.Mean() - euro2.Mean()), 3)\n",
    "print(f'Difference between the means when using the two different priors is {diff}')"
   ]
  }
 ],
 "metadata": {
  "kernelspec": {
   "display_name": "Python 3",
   "language": "python",
   "name": "python3"
  },
  "language_info": {
   "codemirror_mode": {
    "name": "ipython",
    "version": 3
   },
   "file_extension": ".py",
   "mimetype": "text/x-python",
   "name": "python",
   "nbconvert_exporter": "python",
   "pygments_lexer": "ipython3",
   "version": "3.6.1"
  }
 },
 "nbformat": 4,
 "nbformat_minor": 1
}
